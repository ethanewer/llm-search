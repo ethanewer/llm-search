{
 "cells": [
  {
   "cell_type": "code",
   "execution_count": 2,
   "metadata": {
    "id": "LvdSAwCeMRRh"
   },
   "outputs": [],
   "source": [
    "import torch\n",
    "from transformers import AutoModelForCausalLM, AutoTokenizer, BitsAndBytesConfig"
   ]
  },
  {
   "cell_type": "markdown",
   "metadata": {
    "id": "EkLCTh1Vvxwl"
   },
   "source": [
    "# Load Models and Tokenizer"
   ]
  },
  {
   "cell_type": "code",
   "execution_count": null,
   "metadata": {
    "colab": {
     "base_uri": "https://localhost:8080/",
     "height": 138,
     "referenced_widgets": [
      "72488efebf1e4c578d38c2c8676c0655",
      "79d9eb9a71dc49e2bbf4896839026919",
      "bd9bce732f36418ca97ab186681df205",
      "e7bfd7b16abc437684c5cca8720c4be3",
      "b1481fe806db4013933fbb8c5b41febf",
      "46f88be738074d4eae126b8d80c7fbd9",
      "b94af36ad8ba429daf98c20a4843b1b7",
      "3f974148df884179917f4ffa49d03b58",
      "ac54884645c541c5a3859b8dbdb478d0",
      "080f21e3ab8d48d39fe66294193f0cb2",
      "1a2130318b864e3697d93a1affd2f66b",
      "b545c01b03ca43b696f0ee49ec91ae94",
      "bd6c5278ec4b4e85adb1f943e5534ef2",
      "728682d065104b6b8b284bdf09779fab",
      "f415c1bc7a0b463188ac8fdac7f04919",
      "ecc70df811714bd29727fef128f7e837",
      "d1419f87803841d1bf82d44ff056fe8f",
      "cc15cb4f6bc242d783f71d426402e4e6",
      "d948da024c054f3b9fb8a0816b2b349c",
      "29c6165afdea44aca3705a7feb9cde98",
      "aa095dffd5534def8a59fec336035308",
      "4baa0f00dc414fcbba3c5c4fd5bde6a6"
     ]
    },
    "id": "xWtMcyCDMzCz",
    "outputId": "1cbc8404-1814-4eb1-c2be-f7257e8c4a29"
   },
   "outputs": [
    {
     "name": "stderr",
     "output_type": "stream",
     "text": [
      "`low_cpu_mem_usage` was None, now default to True since model is quantized.\n"
     ]
    },
    {
     "data": {
      "application/vnd.jupyter.widget-view+json": {
       "model_id": "72488efebf1e4c578d38c2c8676c0655",
       "version_major": 2,
       "version_minor": 0
      },
      "text/plain": [
       "Loading checkpoint shards:   0%|          | 0/2 [00:00<?, ?it/s]"
      ]
     },
     "metadata": {},
     "output_type": "display_data"
    },
    {
     "name": "stderr",
     "output_type": "stream",
     "text": [
      "`low_cpu_mem_usage` was None, now default to True since model is quantized.\n"
     ]
    },
    {
     "data": {
      "application/vnd.jupyter.widget-view+json": {
       "model_id": "b545c01b03ca43b696f0ee49ec91ae94",
       "version_major": 2,
       "version_minor": 0
      },
      "text/plain": [
       "Loading checkpoint shards:   0%|          | 0/4 [00:00<?, ?it/s]"
      ]
     },
     "metadata": {},
     "output_type": "display_data"
    }
   ],
   "source": [
    "quant_config = BitsAndBytesConfig(load_in_8bit=True)\n",
    "\n",
    "model = AutoModelForCausalLM.from_pretrained(\n",
    "    \"meta-llama/Llama-3.2-3B-Instruct\",\n",
    "    quantization_config=quant_config,\n",
    "    token=\"...\",\n",
    ")\n",
    "\n",
    "prm = AutoModelForCausalLM.from_pretrained(\n",
    "    \"mtzig/prm800k_llama_debug_full\",\n",
    "    token=\"...\",\n",
    "    quantization_config=quant_config,\n",
    ")\n",
    "\n",
    "tokenizer = AutoTokenizer.from_pretrained(\n",
    "    \"meta-llama/Llama-3.2-3B-Instruct\",\n",
    "    token=\"...\",\n",
    ")"
   ]
  },
  {
   "cell_type": "markdown",
   "metadata": {
    "id": "9tdaMPjmwAZC"
   },
   "source": [
    "# Setup Prompt"
   ]
  },
  {
   "cell_type": "code",
   "execution_count": 4,
   "metadata": {
    "id": "sQIUor4ZNWg9"
   },
   "outputs": [],
   "source": [
    "system_message = \"\"\"\n",
    "You are a helpful AI Assistant who solves problems. Solve each problem step by step, ensuring that:\n",
    "1. Each reasoning step is separated by a blank line for clarity.\n",
    "2. The final answer is formatted as: \\\\boxed{<answer>}.\n",
    "Always follow this format when solving problems.\n",
    "\"\"\"\n",
    "\n",
    "problem = \"Convert the point $(0,3)$ in rectangular coordinates to polar coordinates. Enter your answer in the form $(r,\\\\theta),$ where $r > 0$ and $0 \\\\le \\\\theta < 2 \\\\pi.$\"\n",
    "answer = \"\\\\left( 3, \\\\frac{\\\\pi}{2} \\\\right)\"\n",
    "\n",
    "messages = [\n",
    "    {\"role\": \"system\", \"content\": system_message},\n",
    "    {\"role\": \"user\", \"content\": problem},\n",
    "]"
   ]
  },
  {
   "cell_type": "code",
   "execution_count": null,
   "metadata": {
    "colab": {
     "base_uri": "https://localhost:8080/"
    },
    "id": "5M4YlqWxP9iw",
    "outputId": "cffa630b-2894-4423-f732-0220fc117778"
   },
   "outputs": [
    {
     "name": "stdout",
     "output_type": "stream",
     "text": [
      "<|begin_of_text|><|start_header_id|>system<|end_header_id|>\n",
      "\n",
      "Cutting Knowledge Date: December 2023\n",
      "Today Date: 07 Dec 2024\n",
      "\n",
      "You are a helpful AI Assistant who solves problems. Solve each problem step by step, ensuring that:\n",
      "1. Each reasoning step is separated by a blank line for clarity.\n",
      "2. The final answer is formatted as: \\boxed{<answer>}.\n",
      "Always follow this format when solving problems.<|eot_id|><|start_header_id|>user<|end_header_id|>\n",
      "\n",
      "Convert the point $(0,3)$ in rectangular coordinates to polar coordinates. Enter your answer in the form $(r,\\theta),$ where $r > 0$ and $0 \\le \\theta < 2 \\pi.$<|eot_id|><|start_header_id|>assistant<|end_header_id|>\n",
      "\n",
      "\n"
     ]
    }
   ],
   "source": [
    "print(\n",
    "    tokenizer.apply_chat_template(messages, tokenize=False, add_generation_prompt=True)\n",
    ")"
   ]
  },
  {
   "cell_type": "markdown",
   "metadata": {
    "id": "e17XxPZOwN8y"
   },
   "source": [
    "# Generate from Model"
   ]
  },
  {
   "cell_type": "code",
   "execution_count": null,
   "metadata": {
    "colab": {
     "base_uri": "https://localhost:8080/"
    },
    "id": "EXjzMYkKRApc",
    "outputId": "2d80d3c4-ad3d-4f15-89fd-730256f15d62"
   },
   "outputs": [
    {
     "name": "stderr",
     "output_type": "stream",
     "text": [
      "The attention mask and the pad token id were not set. As a consequence, you may observe unexpected behavior. Please pass your input's `attention_mask` to obtain reliable results.\n",
      "Setting `pad_token_id` to `eos_token_id`:None for open-end generation.\n",
      "The attention mask is not set and cannot be inferred from input because pad token is same as eos token. As a consequence, you may observe unexpected behavior. Please pass your input's `attention_mask` to obtain reliable results.\n"
     ]
    }
   ],
   "source": [
    "inputs = tokenizer.apply_chat_template(\n",
    "    messages, return_tensors=\"pt\", add_generation_prompt=True\n",
    ")\n",
    "outputs = model.generate(\n",
    "    inputs.to(\"cuda\"),\n",
    "    max_new_tokens=2500,\n",
    "    max_length=None,\n",
    "    num_beams=5,\n",
    "    num_return_sequences=5,\n",
    "    use_cache=True,\n",
    ")"
   ]
  },
  {
   "cell_type": "code",
   "execution_count": 7,
   "metadata": {
    "colab": {
     "base_uri": "https://localhost:8080/"
    },
    "id": "jbBca-kCUkfG",
    "outputId": "055ccac6-c4e5-474c-b90b-d4945f6852ed"
   },
   "outputs": [
    {
     "name": "stdout",
     "output_type": "stream",
     "text": [
      "<|begin_of_text|><|start_header_id|>system<|end_header_id|>\n",
      "\n",
      "Cutting Knowledge Date: December 2023\n",
      "Today Date: 07 Dec 2024\n",
      "\n",
      "You are a helpful AI Assistant who solves problems. Solve each problem step by step, ensuring that:\n",
      "1. Each reasoning step is separated by a blank line for clarity.\n",
      "2. The final answer is formatted as: \\boxed{<answer>}.\n",
      "Always follow this format when solving problems.<|eot_id|><|start_header_id|>user<|end_header_id|>\n",
      "\n",
      "Convert the point $(0,3)$ in rectangular coordinates to polar coordinates. Enter your answer in the form $(r,\\theta),$ where $r > 0$ and $0 \\le \\theta < 2 \\pi.$<|eot_id|><|start_header_id|>assistant<|end_header_id|>\n",
      "\n",
      "Step 1: To convert the point $(0,3)$ from rectangular coordinates to polar coordinates, we need to find the radius $r$ and the angle $\\theta$.\n",
      "\n",
      "\n",
      "Step 2: The radius $r$ can be calculated using the formula $r = \\sqrt{x^2 + y^2}$. In this case, $x = 0$ and $y = 3$, so $r = \\sqrt{0^2 + 3^2} = \\sqrt{9} = 3$.\n",
      "\n",
      "\n",
      "Step 3: The angle $\\theta$ can be calculated using the formula $\\theta = \\tan^{-1}\\left(\\frac{y}{x}\\right)$. In this case, $x = 0$ and $y = 3$, so $\\theta = \\tan^{-1}\\left(\\frac{3}{0}\\right)$.\n",
      "\n",
      "\n",
      "Step 4: Since $\\tan^{-1}\\left(\\frac{3}{0}\\right)$ is undefined, we need to use the fact that the point $(0,3)$ lies on the positive $y$-axis. Therefore, $\\theta = \\frac{\\pi}{2}$.\n",
      "\n",
      "\n",
      "Step 5: Now that we have found $r = 3$ and $\\theta = \\frac{\\pi}{2}$, we can write the polar coordinates as $(r,\\theta) = \\left(3,\\frac{\\pi}{2}\\right)$.\n",
      "\n",
      "\n",
      "Step 6: Therefore, the polar coordinates of the point $(0,3)$ are $\\left(3,\\frac{\\pi}{2}\\right)$.\n",
      "\n",
      "\n",
      "\\boxed{\\left(3,\\frac{\\pi}{2}\\right)}<|end_of_text|><|end_of_text|><|end_of_text|>\n"
     ]
    }
   ],
   "source": [
    "print(tokenizer.decode(outputs[0]))"
   ]
  },
  {
   "cell_type": "markdown",
   "metadata": {
    "id": "aQl4GZyowSzC"
   },
   "source": [
    "# Make Outputs Ready for PRM"
   ]
  },
  {
   "cell_type": "code",
   "execution_count": 8,
   "metadata": {
    "id": "t1L6pE_ycsDx"
   },
   "outputs": [],
   "source": [
    "step_strs = []\n",
    "step_ids = []\n",
    "\n",
    "for t, i in tokenizer.vocab.items():\n",
    "    if \"\\n\\n\" in t or \"ĊĊ\" in t:\n",
    "        step_strs.append(t)\n",
    "        step_ids.append(i)\n",
    "\n",
    "prm_step_id = tokenizer.encode(\" ки\", add_special_tokens=False)[0]\n",
    "eot_id = tokenizer.encode(\"<|end_of_text|>\", add_special_tokens=False)[0]"
   ]
  },
  {
   "cell_type": "code",
   "execution_count": null,
   "metadata": {
    "id": "Pe_FbpfYXHzX"
   },
   "outputs": [],
   "source": [
    "x = outputs.clone()\n",
    "mask = torch.zeros(x.shape, dtype=torch.bool, device=x.device)\n",
    "for i in step_ids:\n",
    "    mask |= x == i\n",
    "\n",
    "response_mask = torch.arange(x.shape[1], device=x.device) > inputs.shape[1]\n",
    "mask[\n",
    "    torch.arange(len(mask), dtype=x.dtype),\n",
    "    (torch.argmax((x[:, response_mask] == eot_id).byte(), dim=1) + inputs.shape[1]),\n",
    "] = True\n",
    "mask &= response_mask\n",
    "x[mask] = prm_step_id"
   ]
  },
  {
   "cell_type": "code",
   "execution_count": 10,
   "metadata": {
    "colab": {
     "base_uri": "https://localhost:8080/"
    },
    "id": "LI4Kiai5wUJf",
    "outputId": "c3ef3af2-f5e8-423c-966c-b5618ddc81ee"
   },
   "outputs": [
    {
     "name": "stdout",
     "output_type": "stream",
     "text": [
      "<|begin_of_text|><|start_header_id|>system<|end_header_id|>\n",
      "\n",
      "Cutting Knowledge Date: December 2023\n",
      "Today Date: 07 Dec 2024\n",
      "\n",
      "You are a helpful AI Assistant who solves problems. Solve each problem step by step, ensuring that:\n",
      "1. Each reasoning step is separated by a blank line for clarity.\n",
      "2. The final answer is formatted as: \\boxed{<answer>}.\n",
      "Always follow this format when solving problems.<|eot_id|><|start_header_id|>user<|end_header_id|>\n",
      "\n",
      "Convert the point $(0,3)$ in rectangular coordinates to polar coordinates. Enter your answer in the form $(r,\\theta),$ where $r > 0$ and $0 \\le \\theta < 2 \\pi.$<|eot_id|><|start_header_id|>assistant<|end_header_id|>\n",
      "\n",
      "Step 1: To convert the point $(0,3)$ from rectangular coordinates to polar coordinates, we need to find the radius $r$ and the angle $\\theta$ \n",
      "ки\n",
      "Step 2: The radius $r$ can be calculated using the formula $r = \\sqrt{x^2 + y^2}$. In this case, $x = 0$ and $y = 3$, so $r = \\sqrt{0^2 + 3^2} = \\sqrt{9} = 3$ \n",
      "ки\n",
      "Step 3: The angle $\\theta$ can be calculated using the formula $\\theta = \\tan^{-1}\\left(\\frac{y}{x}\\right)$. In this case, $x = 0$ and $y = 3$, so $\\theta = \\tan^{-1}\\left(\\frac{3}{0}\\right)$ \n",
      "ки\n",
      "Step 4: Since $\\tan^{-1}\\left(\\frac{3}{0}\\right)$ is undefined, we need to use the fact that the point $(0,3)$ lies on the positive $y$-axis. Therefore, $\\theta = \\frac{\\pi}{2}$ \n",
      "ки\n",
      "Step 5: Now that we have found $r = 3$ and $\\theta = \\frac{\\pi}{2}$, we can write the polar coordinates as $(r,\\theta) = \\left(3,\\frac{\\pi}{2}\\right)$ \n",
      "ки\n",
      "Step 6: Therefore, the polar coordinates of the point $(0,3)$ are $\\left(3,\\frac{\\pi}{2}\\right)$ \n",
      "ки\n",
      "\\boxed{\\left(3,\\frac{\\pi}{2}\\right \n",
      "ки\n",
      "<|end_of_text|><|end_of_text|><|end_of_text|>\n"
     ]
    }
   ],
   "source": [
    "print(tokenizer.decode(x[0]).replace(\"ки\", \"\\nки\\n\"))"
   ]
  },
  {
   "cell_type": "markdown",
   "metadata": {
    "id": "gmdPTw2uwk2K"
   },
   "source": [
    "# Get Scores From PRM"
   ]
  },
  {
   "cell_type": "code",
   "execution_count": 11,
   "metadata": {
    "id": "QuznU7TGTNTB"
   },
   "outputs": [],
   "source": [
    "candidate_ids = [648, 387]\n",
    "\n",
    "with torch.no_grad():\n",
    "    logits = prm(x).logits[:, :, candidate_ids]\n",
    "    scores = logits.softmax(dim=-1)[:, :, 0]"
   ]
  },
  {
   "cell_type": "code",
   "execution_count": 12,
   "metadata": {
    "colab": {
     "base_uri": "https://localhost:8080/"
    },
    "id": "DZPsqvyqtxSB",
    "outputId": "cb390604-cff0-43a7-ed6b-88efae422fb0"
   },
   "outputs": [
    {
     "name": "stdout",
     "output_type": "stream",
     "text": [
      "average score: 0.944, last score: 0.925\n",
      "average score: 0.944, last score: 0.925\n",
      "average score: 0.946, last score: 0.938\n",
      "average score: 0.944, last score: 0.967\n",
      "average score: 0.946, last score: 0.938\n"
     ]
    }
   ],
   "source": [
    "for i in range(len(x)):\n",
    "    s = scores[i, mask[i]]\n",
    "    print(f\"average score: {torch.mean(s).item():.3f}, last score: {s[-1].item():.3f}\")"
   ]
  }
 ],
 "metadata": {
  "accelerator": "GPU",
  "colab": {
   "gpuType": "A100",
   "provenance": []
  },
  "kernelspec": {
   "display_name": "Python 3",
   "name": "python3"
  },
  "language_info": {
   "name": "python"
  },
  "widgets": {
   "application/vnd.jupyter.widget-state+json": {
    "080f21e3ab8d48d39fe66294193f0cb2": {
     "model_module": "@jupyter-widgets/base",
     "model_module_version": "1.2.0",
     "model_name": "LayoutModel",
     "state": {
      "_model_module": "@jupyter-widgets/base",
      "_model_module_version": "1.2.0",
      "_model_name": "LayoutModel",
      "_view_count": null,
      "_view_module": "@jupyter-widgets/base",
      "_view_module_version": "1.2.0",
      "_view_name": "LayoutView",
      "align_content": null,
      "align_items": null,
      "align_self": null,
      "border": null,
      "bottom": null,
      "display": null,
      "flex": null,
      "flex_flow": null,
      "grid_area": null,
      "grid_auto_columns": null,
      "grid_auto_flow": null,
      "grid_auto_rows": null,
      "grid_column": null,
      "grid_gap": null,
      "grid_row": null,
      "grid_template_areas": null,
      "grid_template_columns": null,
      "grid_template_rows": null,
      "height": null,
      "justify_content": null,
      "justify_items": null,
      "left": null,
      "margin": null,
      "max_height": null,
      "max_width": null,
      "min_height": null,
      "min_width": null,
      "object_fit": null,
      "object_position": null,
      "order": null,
      "overflow": null,
      "overflow_x": null,
      "overflow_y": null,
      "padding": null,
      "right": null,
      "top": null,
      "visibility": null,
      "width": null
     }
    },
    "1a2130318b864e3697d93a1affd2f66b": {
     "model_module": "@jupyter-widgets/controls",
     "model_module_version": "1.5.0",
     "model_name": "DescriptionStyleModel",
     "state": {
      "_model_module": "@jupyter-widgets/controls",
      "_model_module_version": "1.5.0",
      "_model_name": "DescriptionStyleModel",
      "_view_count": null,
      "_view_module": "@jupyter-widgets/base",
      "_view_module_version": "1.2.0",
      "_view_name": "StyleView",
      "description_width": ""
     }
    },
    "29c6165afdea44aca3705a7feb9cde98": {
     "model_module": "@jupyter-widgets/controls",
     "model_module_version": "1.5.0",
     "model_name": "ProgressStyleModel",
     "state": {
      "_model_module": "@jupyter-widgets/controls",
      "_model_module_version": "1.5.0",
      "_model_name": "ProgressStyleModel",
      "_view_count": null,
      "_view_module": "@jupyter-widgets/base",
      "_view_module_version": "1.2.0",
      "_view_name": "StyleView",
      "bar_color": null,
      "description_width": ""
     }
    },
    "3f974148df884179917f4ffa49d03b58": {
     "model_module": "@jupyter-widgets/base",
     "model_module_version": "1.2.0",
     "model_name": "LayoutModel",
     "state": {
      "_model_module": "@jupyter-widgets/base",
      "_model_module_version": "1.2.0",
      "_model_name": "LayoutModel",
      "_view_count": null,
      "_view_module": "@jupyter-widgets/base",
      "_view_module_version": "1.2.0",
      "_view_name": "LayoutView",
      "align_content": null,
      "align_items": null,
      "align_self": null,
      "border": null,
      "bottom": null,
      "display": null,
      "flex": null,
      "flex_flow": null,
      "grid_area": null,
      "grid_auto_columns": null,
      "grid_auto_flow": null,
      "grid_auto_rows": null,
      "grid_column": null,
      "grid_gap": null,
      "grid_row": null,
      "grid_template_areas": null,
      "grid_template_columns": null,
      "grid_template_rows": null,
      "height": null,
      "justify_content": null,
      "justify_items": null,
      "left": null,
      "margin": null,
      "max_height": null,
      "max_width": null,
      "min_height": null,
      "min_width": null,
      "object_fit": null,
      "object_position": null,
      "order": null,
      "overflow": null,
      "overflow_x": null,
      "overflow_y": null,
      "padding": null,
      "right": null,
      "top": null,
      "visibility": null,
      "width": null
     }
    },
    "46f88be738074d4eae126b8d80c7fbd9": {
     "model_module": "@jupyter-widgets/base",
     "model_module_version": "1.2.0",
     "model_name": "LayoutModel",
     "state": {
      "_model_module": "@jupyter-widgets/base",
      "_model_module_version": "1.2.0",
      "_model_name": "LayoutModel",
      "_view_count": null,
      "_view_module": "@jupyter-widgets/base",
      "_view_module_version": "1.2.0",
      "_view_name": "LayoutView",
      "align_content": null,
      "align_items": null,
      "align_self": null,
      "border": null,
      "bottom": null,
      "display": null,
      "flex": null,
      "flex_flow": null,
      "grid_area": null,
      "grid_auto_columns": null,
      "grid_auto_flow": null,
      "grid_auto_rows": null,
      "grid_column": null,
      "grid_gap": null,
      "grid_row": null,
      "grid_template_areas": null,
      "grid_template_columns": null,
      "grid_template_rows": null,
      "height": null,
      "justify_content": null,
      "justify_items": null,
      "left": null,
      "margin": null,
      "max_height": null,
      "max_width": null,
      "min_height": null,
      "min_width": null,
      "object_fit": null,
      "object_position": null,
      "order": null,
      "overflow": null,
      "overflow_x": null,
      "overflow_y": null,
      "padding": null,
      "right": null,
      "top": null,
      "visibility": null,
      "width": null
     }
    },
    "4baa0f00dc414fcbba3c5c4fd5bde6a6": {
     "model_module": "@jupyter-widgets/controls",
     "model_module_version": "1.5.0",
     "model_name": "DescriptionStyleModel",
     "state": {
      "_model_module": "@jupyter-widgets/controls",
      "_model_module_version": "1.5.0",
      "_model_name": "DescriptionStyleModel",
      "_view_count": null,
      "_view_module": "@jupyter-widgets/base",
      "_view_module_version": "1.2.0",
      "_view_name": "StyleView",
      "description_width": ""
     }
    },
    "72488efebf1e4c578d38c2c8676c0655": {
     "model_module": "@jupyter-widgets/controls",
     "model_module_version": "1.5.0",
     "model_name": "HBoxModel",
     "state": {
      "_dom_classes": [],
      "_model_module": "@jupyter-widgets/controls",
      "_model_module_version": "1.5.0",
      "_model_name": "HBoxModel",
      "_view_count": null,
      "_view_module": "@jupyter-widgets/controls",
      "_view_module_version": "1.5.0",
      "_view_name": "HBoxView",
      "box_style": "",
      "children": [
       "IPY_MODEL_79d9eb9a71dc49e2bbf4896839026919",
       "IPY_MODEL_bd9bce732f36418ca97ab186681df205",
       "IPY_MODEL_e7bfd7b16abc437684c5cca8720c4be3"
      ],
      "layout": "IPY_MODEL_b1481fe806db4013933fbb8c5b41febf"
     }
    },
    "728682d065104b6b8b284bdf09779fab": {
     "model_module": "@jupyter-widgets/controls",
     "model_module_version": "1.5.0",
     "model_name": "FloatProgressModel",
     "state": {
      "_dom_classes": [],
      "_model_module": "@jupyter-widgets/controls",
      "_model_module_version": "1.5.0",
      "_model_name": "FloatProgressModel",
      "_view_count": null,
      "_view_module": "@jupyter-widgets/controls",
      "_view_module_version": "1.5.0",
      "_view_name": "ProgressView",
      "bar_style": "success",
      "description": "",
      "description_tooltip": null,
      "layout": "IPY_MODEL_d948da024c054f3b9fb8a0816b2b349c",
      "max": 4,
      "min": 0,
      "orientation": "horizontal",
      "style": "IPY_MODEL_29c6165afdea44aca3705a7feb9cde98",
      "value": 4
     }
    },
    "79d9eb9a71dc49e2bbf4896839026919": {
     "model_module": "@jupyter-widgets/controls",
     "model_module_version": "1.5.0",
     "model_name": "HTMLModel",
     "state": {
      "_dom_classes": [],
      "_model_module": "@jupyter-widgets/controls",
      "_model_module_version": "1.5.0",
      "_model_name": "HTMLModel",
      "_view_count": null,
      "_view_module": "@jupyter-widgets/controls",
      "_view_module_version": "1.5.0",
      "_view_name": "HTMLView",
      "description": "",
      "description_tooltip": null,
      "layout": "IPY_MODEL_46f88be738074d4eae126b8d80c7fbd9",
      "placeholder": "​",
      "style": "IPY_MODEL_b94af36ad8ba429daf98c20a4843b1b7",
      "value": "Loading checkpoint shards: 100%"
     }
    },
    "aa095dffd5534def8a59fec336035308": {
     "model_module": "@jupyter-widgets/base",
     "model_module_version": "1.2.0",
     "model_name": "LayoutModel",
     "state": {
      "_model_module": "@jupyter-widgets/base",
      "_model_module_version": "1.2.0",
      "_model_name": "LayoutModel",
      "_view_count": null,
      "_view_module": "@jupyter-widgets/base",
      "_view_module_version": "1.2.0",
      "_view_name": "LayoutView",
      "align_content": null,
      "align_items": null,
      "align_self": null,
      "border": null,
      "bottom": null,
      "display": null,
      "flex": null,
      "flex_flow": null,
      "grid_area": null,
      "grid_auto_columns": null,
      "grid_auto_flow": null,
      "grid_auto_rows": null,
      "grid_column": null,
      "grid_gap": null,
      "grid_row": null,
      "grid_template_areas": null,
      "grid_template_columns": null,
      "grid_template_rows": null,
      "height": null,
      "justify_content": null,
      "justify_items": null,
      "left": null,
      "margin": null,
      "max_height": null,
      "max_width": null,
      "min_height": null,
      "min_width": null,
      "object_fit": null,
      "object_position": null,
      "order": null,
      "overflow": null,
      "overflow_x": null,
      "overflow_y": null,
      "padding": null,
      "right": null,
      "top": null,
      "visibility": null,
      "width": null
     }
    },
    "ac54884645c541c5a3859b8dbdb478d0": {
     "model_module": "@jupyter-widgets/controls",
     "model_module_version": "1.5.0",
     "model_name": "ProgressStyleModel",
     "state": {
      "_model_module": "@jupyter-widgets/controls",
      "_model_module_version": "1.5.0",
      "_model_name": "ProgressStyleModel",
      "_view_count": null,
      "_view_module": "@jupyter-widgets/base",
      "_view_module_version": "1.2.0",
      "_view_name": "StyleView",
      "bar_color": null,
      "description_width": ""
     }
    },
    "b1481fe806db4013933fbb8c5b41febf": {
     "model_module": "@jupyter-widgets/base",
     "model_module_version": "1.2.0",
     "model_name": "LayoutModel",
     "state": {
      "_model_module": "@jupyter-widgets/base",
      "_model_module_version": "1.2.0",
      "_model_name": "LayoutModel",
      "_view_count": null,
      "_view_module": "@jupyter-widgets/base",
      "_view_module_version": "1.2.0",
      "_view_name": "LayoutView",
      "align_content": null,
      "align_items": null,
      "align_self": null,
      "border": null,
      "bottom": null,
      "display": null,
      "flex": null,
      "flex_flow": null,
      "grid_area": null,
      "grid_auto_columns": null,
      "grid_auto_flow": null,
      "grid_auto_rows": null,
      "grid_column": null,
      "grid_gap": null,
      "grid_row": null,
      "grid_template_areas": null,
      "grid_template_columns": null,
      "grid_template_rows": null,
      "height": null,
      "justify_content": null,
      "justify_items": null,
      "left": null,
      "margin": null,
      "max_height": null,
      "max_width": null,
      "min_height": null,
      "min_width": null,
      "object_fit": null,
      "object_position": null,
      "order": null,
      "overflow": null,
      "overflow_x": null,
      "overflow_y": null,
      "padding": null,
      "right": null,
      "top": null,
      "visibility": null,
      "width": null
     }
    },
    "b545c01b03ca43b696f0ee49ec91ae94": {
     "model_module": "@jupyter-widgets/controls",
     "model_module_version": "1.5.0",
     "model_name": "HBoxModel",
     "state": {
      "_dom_classes": [],
      "_model_module": "@jupyter-widgets/controls",
      "_model_module_version": "1.5.0",
      "_model_name": "HBoxModel",
      "_view_count": null,
      "_view_module": "@jupyter-widgets/controls",
      "_view_module_version": "1.5.0",
      "_view_name": "HBoxView",
      "box_style": "",
      "children": [
       "IPY_MODEL_bd6c5278ec4b4e85adb1f943e5534ef2",
       "IPY_MODEL_728682d065104b6b8b284bdf09779fab",
       "IPY_MODEL_f415c1bc7a0b463188ac8fdac7f04919"
      ],
      "layout": "IPY_MODEL_ecc70df811714bd29727fef128f7e837"
     }
    },
    "b94af36ad8ba429daf98c20a4843b1b7": {
     "model_module": "@jupyter-widgets/controls",
     "model_module_version": "1.5.0",
     "model_name": "DescriptionStyleModel",
     "state": {
      "_model_module": "@jupyter-widgets/controls",
      "_model_module_version": "1.5.0",
      "_model_name": "DescriptionStyleModel",
      "_view_count": null,
      "_view_module": "@jupyter-widgets/base",
      "_view_module_version": "1.2.0",
      "_view_name": "StyleView",
      "description_width": ""
     }
    },
    "bd6c5278ec4b4e85adb1f943e5534ef2": {
     "model_module": "@jupyter-widgets/controls",
     "model_module_version": "1.5.0",
     "model_name": "HTMLModel",
     "state": {
      "_dom_classes": [],
      "_model_module": "@jupyter-widgets/controls",
      "_model_module_version": "1.5.0",
      "_model_name": "HTMLModel",
      "_view_count": null,
      "_view_module": "@jupyter-widgets/controls",
      "_view_module_version": "1.5.0",
      "_view_name": "HTMLView",
      "description": "",
      "description_tooltip": null,
      "layout": "IPY_MODEL_d1419f87803841d1bf82d44ff056fe8f",
      "placeholder": "​",
      "style": "IPY_MODEL_cc15cb4f6bc242d783f71d426402e4e6",
      "value": "Loading checkpoint shards: 100%"
     }
    },
    "bd9bce732f36418ca97ab186681df205": {
     "model_module": "@jupyter-widgets/controls",
     "model_module_version": "1.5.0",
     "model_name": "FloatProgressModel",
     "state": {
      "_dom_classes": [],
      "_model_module": "@jupyter-widgets/controls",
      "_model_module_version": "1.5.0",
      "_model_name": "FloatProgressModel",
      "_view_count": null,
      "_view_module": "@jupyter-widgets/controls",
      "_view_module_version": "1.5.0",
      "_view_name": "ProgressView",
      "bar_style": "success",
      "description": "",
      "description_tooltip": null,
      "layout": "IPY_MODEL_3f974148df884179917f4ffa49d03b58",
      "max": 2,
      "min": 0,
      "orientation": "horizontal",
      "style": "IPY_MODEL_ac54884645c541c5a3859b8dbdb478d0",
      "value": 2
     }
    },
    "cc15cb4f6bc242d783f71d426402e4e6": {
     "model_module": "@jupyter-widgets/controls",
     "model_module_version": "1.5.0",
     "model_name": "DescriptionStyleModel",
     "state": {
      "_model_module": "@jupyter-widgets/controls",
      "_model_module_version": "1.5.0",
      "_model_name": "DescriptionStyleModel",
      "_view_count": null,
      "_view_module": "@jupyter-widgets/base",
      "_view_module_version": "1.2.0",
      "_view_name": "StyleView",
      "description_width": ""
     }
    },
    "d1419f87803841d1bf82d44ff056fe8f": {
     "model_module": "@jupyter-widgets/base",
     "model_module_version": "1.2.0",
     "model_name": "LayoutModel",
     "state": {
      "_model_module": "@jupyter-widgets/base",
      "_model_module_version": "1.2.0",
      "_model_name": "LayoutModel",
      "_view_count": null,
      "_view_module": "@jupyter-widgets/base",
      "_view_module_version": "1.2.0",
      "_view_name": "LayoutView",
      "align_content": null,
      "align_items": null,
      "align_self": null,
      "border": null,
      "bottom": null,
      "display": null,
      "flex": null,
      "flex_flow": null,
      "grid_area": null,
      "grid_auto_columns": null,
      "grid_auto_flow": null,
      "grid_auto_rows": null,
      "grid_column": null,
      "grid_gap": null,
      "grid_row": null,
      "grid_template_areas": null,
      "grid_template_columns": null,
      "grid_template_rows": null,
      "height": null,
      "justify_content": null,
      "justify_items": null,
      "left": null,
      "margin": null,
      "max_height": null,
      "max_width": null,
      "min_height": null,
      "min_width": null,
      "object_fit": null,
      "object_position": null,
      "order": null,
      "overflow": null,
      "overflow_x": null,
      "overflow_y": null,
      "padding": null,
      "right": null,
      "top": null,
      "visibility": null,
      "width": null
     }
    },
    "d948da024c054f3b9fb8a0816b2b349c": {
     "model_module": "@jupyter-widgets/base",
     "model_module_version": "1.2.0",
     "model_name": "LayoutModel",
     "state": {
      "_model_module": "@jupyter-widgets/base",
      "_model_module_version": "1.2.0",
      "_model_name": "LayoutModel",
      "_view_count": null,
      "_view_module": "@jupyter-widgets/base",
      "_view_module_version": "1.2.0",
      "_view_name": "LayoutView",
      "align_content": null,
      "align_items": null,
      "align_self": null,
      "border": null,
      "bottom": null,
      "display": null,
      "flex": null,
      "flex_flow": null,
      "grid_area": null,
      "grid_auto_columns": null,
      "grid_auto_flow": null,
      "grid_auto_rows": null,
      "grid_column": null,
      "grid_gap": null,
      "grid_row": null,
      "grid_template_areas": null,
      "grid_template_columns": null,
      "grid_template_rows": null,
      "height": null,
      "justify_content": null,
      "justify_items": null,
      "left": null,
      "margin": null,
      "max_height": null,
      "max_width": null,
      "min_height": null,
      "min_width": null,
      "object_fit": null,
      "object_position": null,
      "order": null,
      "overflow": null,
      "overflow_x": null,
      "overflow_y": null,
      "padding": null,
      "right": null,
      "top": null,
      "visibility": null,
      "width": null
     }
    },
    "e7bfd7b16abc437684c5cca8720c4be3": {
     "model_module": "@jupyter-widgets/controls",
     "model_module_version": "1.5.0",
     "model_name": "HTMLModel",
     "state": {
      "_dom_classes": [],
      "_model_module": "@jupyter-widgets/controls",
      "_model_module_version": "1.5.0",
      "_model_name": "HTMLModel",
      "_view_count": null,
      "_view_module": "@jupyter-widgets/controls",
      "_view_module_version": "1.5.0",
      "_view_name": "HTMLView",
      "description": "",
      "description_tooltip": null,
      "layout": "IPY_MODEL_080f21e3ab8d48d39fe66294193f0cb2",
      "placeholder": "​",
      "style": "IPY_MODEL_1a2130318b864e3697d93a1affd2f66b",
      "value": " 2/2 [00:04&lt;00:00,  2.16s/it]"
     }
    },
    "ecc70df811714bd29727fef128f7e837": {
     "model_module": "@jupyter-widgets/base",
     "model_module_version": "1.2.0",
     "model_name": "LayoutModel",
     "state": {
      "_model_module": "@jupyter-widgets/base",
      "_model_module_version": "1.2.0",
      "_model_name": "LayoutModel",
      "_view_count": null,
      "_view_module": "@jupyter-widgets/base",
      "_view_module_version": "1.2.0",
      "_view_name": "LayoutView",
      "align_content": null,
      "align_items": null,
      "align_self": null,
      "border": null,
      "bottom": null,
      "display": null,
      "flex": null,
      "flex_flow": null,
      "grid_area": null,
      "grid_auto_columns": null,
      "grid_auto_flow": null,
      "grid_auto_rows": null,
      "grid_column": null,
      "grid_gap": null,
      "grid_row": null,
      "grid_template_areas": null,
      "grid_template_columns": null,
      "grid_template_rows": null,
      "height": null,
      "justify_content": null,
      "justify_items": null,
      "left": null,
      "margin": null,
      "max_height": null,
      "max_width": null,
      "min_height": null,
      "min_width": null,
      "object_fit": null,
      "object_position": null,
      "order": null,
      "overflow": null,
      "overflow_x": null,
      "overflow_y": null,
      "padding": null,
      "right": null,
      "top": null,
      "visibility": null,
      "width": null
     }
    },
    "f415c1bc7a0b463188ac8fdac7f04919": {
     "model_module": "@jupyter-widgets/controls",
     "model_module_version": "1.5.0",
     "model_name": "HTMLModel",
     "state": {
      "_dom_classes": [],
      "_model_module": "@jupyter-widgets/controls",
      "_model_module_version": "1.5.0",
      "_model_name": "HTMLModel",
      "_view_count": null,
      "_view_module": "@jupyter-widgets/controls",
      "_view_module_version": "1.5.0",
      "_view_name": "HTMLView",
      "description": "",
      "description_tooltip": null,
      "layout": "IPY_MODEL_aa095dffd5534def8a59fec336035308",
      "placeholder": "​",
      "style": "IPY_MODEL_4baa0f00dc414fcbba3c5c4fd5bde6a6",
      "value": " 4/4 [00:09&lt;00:00,  2.12s/it]"
     }
    }
   }
  }
 },
 "nbformat": 4,
 "nbformat_minor": 0
}
